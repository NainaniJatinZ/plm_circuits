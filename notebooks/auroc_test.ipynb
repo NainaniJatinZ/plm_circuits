{
 "cells": [
  {
   "cell_type": "code",
   "execution_count": null,
   "id": "080cd2ed",
   "metadata": {},
   "outputs": [
    {
     "name": "stdout",
     "output_type": "stream",
     "text": [
      "0.7777777777777778 0.7777777777777778 0.7777777777777778 0.7777777777777778 0.7777777777777778 0.22222222222222224\n"
     ]
    }
   ],
   "source": [
    "import numpy as np\n",
    "from sklearn.metrics import roc_auc_score\n",
    "\n",
    "# Ground truth: 3 positives (first three), 3 negatives (last three)\n",
    "y = np.array([1, 1, 1, 0, 0, 0])\n",
    "\n",
    "# Base scores (e.g., per-sequence max activations; all >=0)\n",
    "s = np.array([0.90, 0.80, 0.40, 0.70, 0.60, 0.10])  # mixed ordering\n",
    "\n",
    "def A(x): return roc_auc_score(y, x)\n",
    "\n",
    "a_base = A(s)                 # ≈ 7/9 = 0.777777...\n",
    "a_shift = A(s + 5.0)          # +constant (all > 0)\n",
    "a_scale = A(2.0 * s)          # ×positive constant\n",
    "a_signed = A(2.0 * s - 1.0)   # crosses zero but preserves order\n",
    "a_logit = A(1/(1 + np.exp(-(s - 0.5))))  # monotone transform to (0,1)\n",
    "a_flip  = A(-s)               # reverses order → 1 - AUC\n",
    "\n",
    "print(a_base, a_shift, a_scale, a_signed, a_logit, a_flip)\n",
    "\n",
    "# Sanity checks:\n",
    "assert np.allclose(a_base, a_shift)\n",
    "assert np.allclose(a_base, a_scale)\n",
    "assert np.allclose(a_base, a_signed)\n",
    "assert np.allclose(a_base, a_logit)\n",
    "assert np.allclose(a_flip, 1 - a_base)\n",
    "\n",
    "# A rank-preserving rescale to [0,1]\n",
    "p = (s - s.min()) / (s.max() - s.min())\n",
    "assert np.allclose(A(s), A(p))\n"
   ]
  },
  {
   "cell_type": "code",
   "execution_count": null,
   "metadata": {},
   "outputs": [],
   "source": [
    "\n"
   ]
  },
  {
   "cell_type": "code",
   "execution_count": null,
   "id": "20638964",
   "metadata": {},
   "outputs": [],
   "source": []
  }
 ],
 "metadata": {
  "kernelspec": {
   "display_name": "finetuning",
   "language": "python",
   "name": "python3"
  },
  "language_info": {
   "codemirror_mode": {
    "name": "ipython",
    "version": 3
   },
   "file_extension": ".py",
   "mimetype": "text/x-python",
   "name": "python",
   "nbconvert_exporter": "python",
   "pygments_lexer": "ipython3",
   "version": "3.10.4"
  }
 },
 "nbformat": 4,
 "nbformat_minor": 5
}
